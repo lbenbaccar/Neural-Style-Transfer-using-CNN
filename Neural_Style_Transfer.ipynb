{
  "nbformat": 4,
  "nbformat_minor": 0,
  "metadata": {
    "colab": {
      "name": "Neural Style Transfer.ipynb",
      "provenance": []
    },
    "kernelspec": {
      "name": "python3",
      "display_name": "Python 3"
    },
    "language_info": {
      "name": "python"
    },
    "accelerator": "GPU"
  },
  "cells": [
    {
      "cell_type": "markdown",
      "metadata": {
        "id": "T3KFVkLPRNPm"
      },
      "source": [
        "# A Neural Algorithm of Artistic Style PyTorch Implementation\n",
        "## **Libraries**"
      ]
    },
    {
      "cell_type": "code",
      "metadata": {
        "id": "MOxhqAZ42jiZ"
      },
      "source": [
        "import os\n",
        "from os import path\n",
        "import copy\n",
        "from sys import version_info\n",
        "from collections import OrderedDict\n",
        "import argparse\n",
        "from PIL import Image\n",
        "Image.MAX_IMAGE_PIXELS = 1000000000 \n",
        "\n",
        "import torch\n",
        "import torch.nn as nn\n",
        "import torch.optim as optim\n",
        "import torchvision.transforms as transforms\n",
        "from torch.utils.model_zoo import load_url"
      ],
      "execution_count": 1,
      "outputs": []
    },
    {
      "cell_type": "markdown",
      "metadata": {
        "id": "KvBTmAq-qQO-"
      },
      "source": [
        "# **Model downloads**"
      ]
    },
    {
      "cell_type": "markdown",
      "metadata": {
        "id": "BU1kS-H2qWKY"
      },
      "source": [
        "## Download the VGG-19 model and fix the layer names"
      ]
    },
    {
      "cell_type": "code",
      "metadata": {
        "id": "xiVms7QVqPc4"
      },
      "source": [
        "sd = load_url(\"https://web.eecs.umich.edu/~justincj/models/vgg19-d01eb7cb.pth\")\n",
        "map = {'classifier.1.weight':u'classifier.0.weight', 'classifier.1.bias':u'classifier.0.bias', 'classifier.4.weight':u'classifier.3.weight', 'classifier.4.bias':u'classifier.3.bias'}\n",
        "sd = OrderedDict([(map[k] if k in map else k,v) for k,v in sd.items()])\n",
        "torch.save(sd, \"vgg19-d01eb7cb.pth\")"
      ],
      "execution_count": 2,
      "outputs": []
    },
    {
      "cell_type": "markdown",
      "metadata": {
        "id": "Ll2JoVHmqa6V"
      },
      "source": [
        "## Download the VGG-16 model and fix the layer names"
      ]
    },
    {
      "cell_type": "code",
      "metadata": {
        "id": "-oIGiXTDqaLt"
      },
      "source": [
        "sd = load_url(\"https://web.eecs.umich.edu/~justincj/models/vgg16-00b39a1b.pth\")\n",
        "map = {'classifier.1.weight':u'classifier.0.weight', 'classifier.1.bias':u'classifier.0.bias', 'classifier.4.weight':u'classifier.3.weight', 'classifier.4.bias':u'classifier.3.bias'}\n",
        "sd = OrderedDict([(map[k] if k in map else k,v) for k,v in sd.items()])\n",
        "torch.save(sd, \"vgg16-00b39a1b.pth\")"
      ],
      "execution_count": 3,
      "outputs": []
    },
    {
      "cell_type": "markdown",
      "metadata": {
        "id": "qZ9SCGY_qf94"
      },
      "source": [
        "## Download the NIN model"
      ]
    },
    {
      "cell_type": "code",
      "metadata": {
        "id": "CT8S_z2wqh_-"
      },
      "source": [
        "if version_info[0] < 3:\n",
        "    import urllib\n",
        "    urllib.URLopener().retrieve(\"https://raw.githubusercontent.com/ProGamerGov/pytorch-nin/master/nin_imagenet.pth\", \"nin_imagenet.pth\")\n",
        "else: \n",
        "    import urllib.request\n",
        "    urllib.request.urlretrieve(\"https://raw.githubusercontent.com/ProGamerGov/pytorch-nin/master/nin_imagenet.pth\", \"nin_imagenet.pth\")"
      ],
      "execution_count": 4,
      "outputs": []
    },
    {
      "cell_type": "markdown",
      "metadata": {
        "id": "xPVxqr08RAhQ"
      },
      "source": [
        "# **Options**\n"
      ]
    },
    {
      "cell_type": "code",
      "metadata": {
        "id": "A7De8XuPRt4R"
      },
      "source": [
        "parser = argparse.ArgumentParser()"
      ],
      "execution_count": 5,
      "outputs": []
    },
    {
      "cell_type": "markdown",
      "metadata": {
        "id": "Px_cp9fNRreG"
      },
      "source": [
        "## Basic options\n",
        "\n",
        "*   `-style_image`: path of the style image.\n",
        "*   `-content_image`: path of the content image.\n",
        "*   `-style_blend_weights`: weight for blending the style of multiple style images. *Format :* comma-separated list. *Example :* `-style_blend_weights` 2,6,7. (*by default :* all style images equally weighted)\n",
        "*   `-image_size`: maximum side length in pixels of the generated image. (*by default :* 512)\n",
        "*   `-gpu`: zero-indexed ID of the GPU to use.\n",
        "\n",
        "\n"
      ]
    },
    {
      "cell_type": "code",
      "metadata": {
        "colab": {
          "base_uri": "https://localhost:8080/"
        },
        "id": "_sRdkTTaRLgj",
        "outputId": "0eb36eb6-5905-4bac-fb37-652131913a3f"
      },
      "source": [
        "parser.add_argument(\"-style_image\", help=\"Style target image\", default='style.jpg')\n",
        "parser.add_argument(\"-content_image\", help=\"Content target image\", default='content.jpg')\n",
        "parser.add_argument(\"-style_blend_weights\", default=None)\n",
        "parser.add_argument(\"-image_size\", help=\"Maximum height / width of generated image\", type=int, default=512)\n",
        "parser.add_argument(\"-gpu\", help=\"Zero-indexed ID of the GPU to use; for CPU mode set -gpu = c\", default=0)"
      ],
      "execution_count": 6,
      "outputs": [
        {
          "output_type": "execute_result",
          "data": {
            "text/plain": [
              "_StoreAction(option_strings=['-gpu'], dest='gpu', nargs=None, const=None, default=0, type=None, choices=None, help='Zero-indexed ID of the GPU to use; for CPU mode set -gpu = c', metavar=None)"
            ]
          },
          "metadata": {
            "tags": []
          },
          "execution_count": 6
        }
      ]
    },
    {
      "cell_type": "markdown",
      "metadata": {
        "id": "3Wqd27GiVYfC"
      },
      "source": [
        "## Optimization options\n",
        "For the optimization algorithm, L-BFGS tends to give better results, but uses more memory. ADAM reduce memory usage. Moreover, when using ADAM we need to play with other parameters to get good results, especially the style weight, content weight, and learning rate.\n",
        "\n",
        "*   `-content_weight`: argument to know how much to weight the content reconstruction term. (*by default:* 5e0)\n",
        "*   `-style_weight`: argument to know how much to weight the style reconstruction term. (*by default:* 1e2)\n",
        "*   `-tv_weight`: weight of total-variation (TV) regularization to help smoothing the image. 0 to disable TV regularization. (*by default:* 1e-3)\n",
        "*   `-num_iterations`: number of iterations. (*by default:* 1000)\n",
        "*   `-init`: method for generating the generated image, one of `random` or `image`. (*by default:* `random` which uses a noise initialization; `image` initializes with the content image)\n",
        "*   `-init_image`: replaces the initialization image with a user specified image.\n",
        "*   `-optimizer`: optimization algorithm to use, `lbfgs` or `adam`. (*by default:* `lbfgs`)\n",
        "*   `-learning_rate`: learning rate to use with the ADAM optimizer (*by default:* 1e1)\n",
        "*   `-lbfgs_num_correction`: number of correction pairs stored. (*by default:* 100)\n",
        "*   `-normalize_weights`: if present, weights will be L1 normalized.\n",
        "*   `-normalize_gradients`: if present, style and content gradients from each layer will be L1 normalized."
      ]
    },
    {
      "cell_type": "code",
      "metadata": {
        "colab": {
          "base_uri": "https://localhost:8080/"
        },
        "id": "B6Pgxse1Ym_w",
        "outputId": "64614d13-5890-4637-f02b-b6bebf7d5968"
      },
      "source": [
        "parser.add_argument(\"-content_weight\", type=float, default=5e0)\n",
        "parser.add_argument(\"-style_weight\", type=float, default=1e2)\n",
        "parser.add_argument(\"-tv_weight\", type=float, default=1e-3)\n",
        "parser.add_argument(\"-num_iterations\", type=int, default=1000)\n",
        "parser.add_argument(\"-init\", choices=['random', 'image'], default='random')\n",
        "parser.add_argument(\"-init_image\", default=None)\n",
        "parser.add_argument(\"-optimizer\", choices=['lbfgs', 'adam'], default='lbfgs')\n",
        "parser.add_argument(\"-learning_rate\", type=float, default=1e0)\n",
        "parser.add_argument(\"-lbfgs_num_correction\", type=int, default=100)\n",
        "parser.add_argument(\"-normalize_weights\", action='store_true')\n",
        "parser.add_argument(\"-normalize_gradients\", action='store_true')"
      ],
      "execution_count": 7,
      "outputs": [
        {
          "output_type": "execute_result",
          "data": {
            "text/plain": [
              "_StoreTrueAction(option_strings=['-normalize_gradients'], dest='normalize_gradients', nargs=0, const=True, default=False, type=None, choices=None, help=None, metavar=None)"
            ]
          },
          "metadata": {
            "tags": []
          },
          "execution_count": 7
        }
      ]
    },
    {
      "cell_type": "markdown",
      "metadata": {
        "id": "B1YIsiKlYM-D"
      },
      "source": [
        "## Output options\n",
        "\n",
        "*   `-output_image`: name of the output image (*by default:* `out.png`)\n",
        "*   `-print_iter`: print progress every `print_iter` iterations. 0 to disable printing.\n",
        "*   `-save_iter`: save the image every `save_iter` iterations. Set to 0 to disable saving intermediate results."
      ]
    },
    {
      "cell_type": "code",
      "metadata": {
        "colab": {
          "base_uri": "https://localhost:8080/"
        },
        "id": "6ZFg8RrNaIWU",
        "outputId": "60bd4042-cca0-478c-ec66-86aee43470bb"
      },
      "source": [
        "parser.add_argument(\"-output_image\", default='out.png')\n",
        "parser.add_argument(\"-print_iter\", type=int, default=50)\n",
        "parser.add_argument(\"-save_iter\", type=int, default=100)"
      ],
      "execution_count": 8,
      "outputs": [
        {
          "output_type": "execute_result",
          "data": {
            "text/plain": [
              "_StoreAction(option_strings=['-save_iter'], dest='save_iter', nargs=None, const=None, default=100, type=<class 'int'>, choices=None, help=None, metavar=None)"
            ]
          },
          "metadata": {
            "tags": []
          },
          "execution_count": 8
        }
      ]
    },
    {
      "cell_type": "markdown",
      "metadata": {
        "id": "NeQvzhSydL8h"
      },
      "source": [
        "## Layer options\n",
        " \n",
        "*   `-content_layers`: comma-separated list of layer names to use for content reconstruction (*by default:* `relu4_2`)\n",
        "*   `-style_layers`: comma-separated list of layer names to use for style reconstruction (*by default:* `relu1_1`, `relu2_1`,`relu3_1`,`relu4_1`,`relu5_1`)"
      ]
    },
    {
      "cell_type": "code",
      "metadata": {
        "colab": {
          "base_uri": "https://localhost:8080/"
        },
        "id": "DtRZRa37dMTT",
        "outputId": "d8fec0e2-8834-426a-9602-274cfeae1aa8"
      },
      "source": [
        "parser.add_argument(\"-content_layers\", help=\"layers for content\", default='relu4_2')\n",
        "parser.add_argument(\"-style_layers\", help=\"layers for style\", default='relu1_1,relu2_1,relu3_1,relu4_1,relu5_1')"
      ],
      "execution_count": 9,
      "outputs": [
        {
          "output_type": "execute_result",
          "data": {
            "text/plain": [
              "_StoreAction(option_strings=['-style_layers'], dest='style_layers', nargs=None, const=None, default='relu1_1,relu2_1,relu3_1,relu4_1,relu5_1', type=None, choices=None, help='layers for style', metavar=None)"
            ]
          },
          "metadata": {
            "tags": []
          },
          "execution_count": 9
        }
      ]
    },
    {
      "cell_type": "markdown",
      "metadata": {
        "id": "FPjnPTAcYk1d"
      },
      "source": [
        "## Other options\n",
        " \n",
        "*   `-style_scale`: scale at which to extract features from the style image. (*by default:* 1.0)\n",
        "*   `-original_colors`: if set to 1, then the output image will keep the colors of the content image.\n",
        "*   `-model_file`: path to the `.pth` file for the VGG Caffe model. (*by default:* the original VGG-19 model)\n",
        "*   `-pooling`: the type of pooling layers to use, one of `max` or `avg`. (*by default:* `max`). Indeed, VGG-19 models uses max pooling layers, but the paper mentions that replacing these layers with average pooling layers can improve the results.\n",
        "*   `-seed`: an integer value that we can specify for repeatable results. (*by default:* random for each run)\n",
        "*   `-multidevice_strategy`: a comma-separated list of layer indices at which to split the network when using multiple devices.\n",
        "*   `-backend`: `nn`, `cudnn`, `openmp`, or `mkl`. (*by default:* `nn`)\n",
        "*   `-cudnn_autotune`: when using the cuDNN backend, we pass this flag to use the built-in cuDNN autotuner to select the best convolution algorithms for the architecture. This will make the first iteration a bit slower and can take a bit more memory, but may significantly speed up the cuDNN backend."
      ]
    },
    {
      "cell_type": "code",
      "metadata": {
        "colab": {
          "base_uri": "https://localhost:8080/"
        },
        "id": "zjNVrAgSc0a9",
        "outputId": "b9a1724c-ea2d-4078-c682-9d35030ca465"
      },
      "source": [
        "parser.add_argument(\"-style_scale\", type=float, default=1.0)\n",
        "parser.add_argument(\"-original_colors\", type=int, choices=[0, 1], default=0)\n",
        "parser.add_argument(\"-model_file\", type=str, default='vgg19-d01eb7cb.pth')\n",
        "parser.add_argument(\"-pooling\", choices=['avg', 'max'], default='max')\n",
        "parser.add_argument(\"-seed\", type=int, default=-1)\n",
        "parser.add_argument(\"-multidevice_strategy\", default='4,7,29')\n",
        "parser.add_argument(\"-backend\", choices=['nn', 'cudnn', 'mkl', 'mkldnn', 'openmp', 'mkl,cudnn', 'cudnn,mkl'], default='nn')\n",
        "parser.add_argument(\"-cudnn_autotune\", action='store_true')\n",
        "parser.add_argument(\"-disable_check\", action='store_true')"
      ],
      "execution_count": 10,
      "outputs": [
        {
          "output_type": "execute_result",
          "data": {
            "text/plain": [
              "_StoreTrueAction(option_strings=['-disable_check'], dest='disable_check', nargs=0, const=True, default=False, type=None, choices=None, help=None, metavar=None)"
            ]
          },
          "metadata": {
            "tags": []
          },
          "execution_count": 10
        }
      ]
    },
    {
      "cell_type": "code",
      "metadata": {
        "id": "xbId7_B8goV5"
      },
      "source": [
        "params, unknown = parser.parse_known_args()"
      ],
      "execution_count": 11,
      "outputs": []
    },
    {
      "cell_type": "markdown",
      "metadata": {
        "id": "hCjWnRqtga8N"
      },
      "source": [
        "# **Architecture classes**"
      ]
    },
    {
      "cell_type": "markdown",
      "metadata": {
        "id": "IJlZAdc_BUR-"
      },
      "source": [
        "## Architectures parameters"
      ]
    },
    {
      "cell_type": "code",
      "metadata": {
        "id": "h_9ddxT1-VDG"
      },
      "source": [
        "channel_list = {\n",
        "'VGG-16p': [24, 22, 'P', 41, 51, 'P', 108, 89, 111, 'P', 184, 276, 228, 'P', 512, 512, 512, 'P'],\n",
        "'VGG-16': [64, 64, 'P', 128, 128, 'P', 256, 256, 256, 'P', 512, 512, 512, 'P', 512, 512, 512, 'P'],\n",
        "'VGG-19': [64, 64, 'P', 128, 128, 'P', 256, 256, 256, 256, 'P', 512, 512, 512, 512, 'P', 512, 512, 512, 512, 'P'],\n",
        "}\n",
        "\n",
        "vgg16_dict = {\n",
        "'C': ['conv1_1', 'conv1_2', 'conv2_1', 'conv2_2', 'conv3_1', 'conv3_2', 'conv3_3', 'conv4_1', 'conv4_2', 'conv4_3', 'conv5_1', 'conv5_2', 'conv5_3'],\n",
        "'R': ['relu1_1', 'relu1_2', 'relu2_1', 'relu2_2', 'relu3_1', 'relu3_2', 'relu3_3', 'relu4_1', 'relu4_2', 'relu4_3', 'relu5_1', 'relu5_2', 'relu5_3'],\n",
        "'P': ['pool1', 'pool2', 'pool3', 'pool4', 'pool5'],\n",
        "}\n",
        "\n",
        "vgg19_dict = {\n",
        "'C': ['conv1_1', 'conv1_2', 'conv2_1', 'conv2_2', 'conv3_1', 'conv3_2', 'conv3_3', 'conv3_4', 'conv4_1', 'conv4_2', 'conv4_3', 'conv4_4', 'conv5_1', 'conv5_2', 'conv5_3', 'conv5_4'],\n",
        "'R': ['relu1_1', 'relu1_2', 'relu2_1', 'relu2_2', 'relu3_1', 'relu3_2', 'relu3_3', 'relu3_4', 'relu4_1', 'relu4_2', 'relu4_3', 'relu4_4', 'relu5_1', 'relu5_2', 'relu5_3', 'relu5_4'],\n",
        "'P': ['pool1', 'pool2', 'pool3', 'pool4', 'pool5'],\n",
        "}\n",
        "\n",
        "nin_dict = {\n",
        "'C': ['conv1', 'cccp1', 'cccp2', 'conv2', 'cccp3', 'cccp4', 'conv3', 'cccp5', 'cccp6', 'conv4-1024', 'cccp7-1024', 'cccp8-1024'],\n",
        "'R': ['relu0', 'relu1', 'relu2', 'relu3', 'relu5', 'relu6', 'relu7', 'relu8', 'relu9', 'relu10', 'relu11', 'relu12'],\n",
        "'P': ['pool1', 'pool2', 'pool3', 'pool4'],\n",
        "'D': ['drop'],\n",
        "}"
      ],
      "execution_count": 12,
      "outputs": []
    },
    {
      "cell_type": "markdown",
      "metadata": {
        "id": "71wETEQ0BAZb"
      },
      "source": [
        "## VGG-16 and VGG-19 architecture class"
      ]
    },
    {
      "cell_type": "code",
      "metadata": {
        "id": "llF_xTqVzj5k"
      },
      "source": [
        "class VGG(nn.Module):\n",
        "\n",
        "    def __init__(self, features, num_classes = 1000):\n",
        "        super(VGG, self).__init__()\n",
        "        self.features = features\n",
        "        self.classifier = nn.Sequential(\n",
        "            nn.Linear(512 * 7 * 7, 4096),\n",
        "            nn.ReLU(True),\n",
        "            nn.Dropout(),\n",
        "            nn.Linear(4096, 4096),\n",
        "            nn.ReLU(True),\n",
        "            nn.Dropout(),\n",
        "            nn.Linear(4096, num_classes),\n",
        "        )"
      ],
      "execution_count": 13,
      "outputs": []
    },
    {
      "cell_type": "markdown",
      "metadata": {
        "id": "REkGKMGeE4oK"
      },
      "source": [
        "## VGG-16 architecture class using the channel pruning model"
      ]
    },
    {
      "cell_type": "code",
      "metadata": {
        "id": "Om3Ddjwz4HaY"
      },
      "source": [
        "class VGG_Pruned(nn.Module):\n",
        "  \n",
        "    def __init__(self, features, num_classes=1000):\n",
        "        super(VGG_Pruned, self).__init__()\n",
        "        self.features = features\n",
        "        self.classifier = nn.Sequential(\n",
        "            nn.Linear(512 * 7 * 7, 4096),\n",
        "            nn.ReLU(True),\n",
        "            nn.Dropout(0.5),\n",
        "            nn.Linear(4096, 4096),\n",
        "            nn.ReLU(True),\n",
        "            nn.Dropout(0.5),\n",
        "        )"
      ],
      "execution_count": 14,
      "outputs": []
    },
    {
      "cell_type": "markdown",
      "metadata": {
        "id": "4gt03D_7FRLr"
      },
      "source": [
        "## VGG-16 architecture class using the fcn32s-heavy-pascal model"
      ]
    },
    {
      "cell_type": "code",
      "metadata": {
        "id": "SMK4Q3SH3wW1"
      },
      "source": [
        "class VGG_Fully_Convolutional_Network_32S(nn.Module):\n",
        "  \n",
        "    def __init__(self, features, num_classes=1000):\n",
        "        super(VGG_Fully_Convolutional_Network_32S, self).__init__()\n",
        "        self.features = features\n",
        "        self.classifier = nn.Sequential(\n",
        "            nn.Conv2d(512,4096,(7, 7)),\n",
        "            nn.ReLU(True),\n",
        "            nn.Dropout(0.5),\n",
        "            nn.Conv2d(4096,4096,(1, 1)),\n",
        "            nn.ReLU(True),\n",
        "            nn.Dropout(0.5),\n",
        "        )"
      ],
      "execution_count": 15,
      "outputs": []
    },
    {
      "cell_type": "markdown",
      "metadata": {
        "id": "pa8JLwl1FSg3"
      },
      "source": [
        "## VGG-16 architecture class using the SOD fintune model"
      ]
    },
    {
      "cell_type": "code",
      "metadata": {
        "id": "7FaJFoeB3XKY"
      },
      "source": [
        "class VGG_Salient_Object_Detection(nn.Module):\n",
        "  \n",
        "    def __init__(self, features, num_classes=100):\n",
        "        super(VGG_Salient_Object_Detection, self).__init__()\n",
        "        self.features = features\n",
        "        self.classifier = nn.Sequential(\n",
        "            nn.Linear(512 * 7 * 7, 4096),\n",
        "            nn.ReLU(True),\n",
        "            nn.Dropout(),\n",
        "            nn.Linear(4096, 4096),\n",
        "            nn.ReLU(True),\n",
        "            nn.Dropout(),\n",
        "            nn.Linear(4096, 100),\n",
        "        )"
      ],
      "execution_count": 16,
      "outputs": []
    },
    {
      "cell_type": "markdown",
      "metadata": {
        "id": "ItE4TDyPGR1E"
      },
      "source": [
        "## NIN architecture class"
      ]
    },
    {
      "cell_type": "code",
      "metadata": {
        "id": "Anc8Ux6A4mkc"
      },
      "source": [
        "class Network_in_Network(nn.Module):\n",
        "\n",
        "    def __init__(self, pooling):\n",
        "        super(Network_in_Network, self).__init__()\n",
        "        if pooling == 'max':\n",
        "            pool2d = nn.MaxPool2d((3, 3),(2, 2),(0, 0),ceil_mode=True)\n",
        "        elif pooling == 'avg':\n",
        "            pool2d = nn.AvgPool2d((3, 3),(2, 2),(0, 0),ceil_mode=True)\n",
        "\n",
        "        self.features = nn.Sequential(\n",
        "            nn.Conv2d(3,96,(11, 11),(4, 4)),\n",
        "            nn.ReLU(inplace=True),\n",
        "            nn.Conv2d(96,96,(1, 1)),\n",
        "            nn.ReLU(inplace=True),\n",
        "            nn.Conv2d(96,96,(1, 1)),\n",
        "            nn.ReLU(inplace=True),\n",
        "            pool2d,\n",
        "            nn.Conv2d(96,256,(5, 5),(1, 1),(2, 2)),\n",
        "            nn.ReLU(inplace=True),\n",
        "            nn.Conv2d(256,256,(1, 1)),\n",
        "            nn.ReLU(inplace=True),\n",
        "            nn.Conv2d(256,256,(1, 1)),\n",
        "            nn.ReLU(inplace=True),\n",
        "            pool2d,\n",
        "            nn.Conv2d(256,384,(3, 3),(1, 1),(1, 1)),\n",
        "            nn.ReLU(inplace=True),\n",
        "            nn.Conv2d(384,384,(1, 1)),\n",
        "            nn.ReLU(inplace=True),\n",
        "            nn.Conv2d(384,384,(1, 1)),\n",
        "            nn.ReLU(inplace=True),\n",
        "            pool2d,\n",
        "            nn.Dropout(0.5),\n",
        "            nn.Conv2d(384,1024,(3, 3),(1, 1),(1, 1)),\n",
        "            nn.ReLU(inplace=True),\n",
        "            nn.Conv2d(1024,1024,(1, 1)),\n",
        "            nn.ReLU(inplace=True),\n",
        "            nn.Conv2d(1024,1000,(1, 1)),\n",
        "            nn.ReLU(inplace=True),\n",
        "            nn.AvgPool2d((6, 6),(1, 1),(0, 0),ceil_mode=True),\n",
        "            nn.Softmax(),\n",
        "        )"
      ],
      "execution_count": 17,
      "outputs": []
    },
    {
      "cell_type": "code",
      "metadata": {
        "id": "Hq7Eym_GG45a"
      },
      "source": [
        "class ModelParallel(nn.Module):\n",
        "    def __init__(self, net, device_ids, device_splits):\n",
        "        super(ModelParallel, self).__init__()\n",
        "        self.device_list = self.name_devices(device_ids.split(','))\n",
        "        self.chunks = self.chunks_to_devices(self.split_net(net, device_splits.split(',')))\n",
        "\n",
        "    def name_devices(self, input_list):\n",
        "        device_list = []\n",
        "        for i, device in enumerate(input_list):\n",
        "            if str(device).lower() != 'c':\n",
        "                device_list.append(\"cuda:\" + str(device))\n",
        "            else:\n",
        "                device_list.append(\"cpu\")\n",
        "        return device_list\n",
        "\n",
        "    def split_net(self, net, device_splits):\n",
        "        chunks, cur_chunk = [], nn.Sequential()\n",
        "        for i, l in enumerate(net):\n",
        "            cur_chunk.add_module(str(i), net[i])\n",
        "            if str(i) in device_splits and device_splits != '':\n",
        "                del device_splits[0]\n",
        "                chunks.append(cur_chunk)\n",
        "                cur_chunk = nn.Sequential()\n",
        "        chunks.append(cur_chunk)\n",
        "        return chunks\n",
        "\n",
        "    def chunks_to_devices(self, chunks):\n",
        "        for i, chunk in enumerate(chunks):\n",
        "            chunk.to(self.device_list[i])\n",
        "        return chunks\n",
        "\n",
        "    def c(self, input, i):\n",
        "        if input.type() == 'torch.FloatTensor' and 'cuda' in self.device_list[i]:\n",
        "            input = input.type('torch.cuda.FloatTensor')\n",
        "        elif input.type() == 'torch.cuda.FloatTensor' and 'cpu' in self.device_list[i]:\n",
        "            input = input.type('torch.FloatTensor')\n",
        "        return input\n",
        "\n",
        "    def forward(self, input):\n",
        "        for i, chunk in enumerate(self.chunks):\n",
        "            if i < len(self.chunks) -1:\n",
        "                input = self.c(chunk(self.c(input, i).to(self.device_list[i])), i+1).to(self.device_list[i+1])\n",
        "            else:\n",
        "                input = chunk(input)\n",
        "        return input"
      ],
      "execution_count": 18,
      "outputs": []
    },
    {
      "cell_type": "code",
      "metadata": {
        "id": "Vhs9UJZA-zMY"
      },
      "source": [
        "def buildSequential(channel_list, pooling):\n",
        "\n",
        "    layers = []\n",
        "    in_channels = 3\n",
        "\n",
        "    if pooling == 'max':\n",
        "        pool2d = nn.MaxPool2d(kernel_size=2, stride=2)\n",
        "\n",
        "    elif pooling == 'avg':\n",
        "        pool2d = nn.AvgPool2d(kernel_size=2, stride=2)\n",
        "\n",
        "    else:\n",
        "        raise ValueError(\"Unrecognized pooling parameter\")\n",
        "\n",
        "    for c in channel_list:\n",
        "        if c == 'P':\n",
        "            layers = layers + [pool2d]\n",
        "        else:\n",
        "            conv2d = nn.Conv2d(in_channels, c, kernel_size=3, padding=1)\n",
        "            layers = layers + [conv2d, nn.ReLU(inplace=True)]\n",
        "            in_channels = c\n",
        "\n",
        "    return nn.Sequential(*layers)"
      ],
      "execution_count": 19,
      "outputs": []
    },
    {
      "cell_type": "markdown",
      "metadata": {
        "id": "1TlS42qoAlVa"
      },
      "source": [
        "## Function to select the model to use "
      ]
    },
    {
      "cell_type": "code",
      "metadata": {
        "id": "bL0KlrIq-bYu"
      },
      "source": [
        "def modelSelector(model_file, pooling):\n",
        "\n",
        "    vgg_list = [\"vgg\", \"fcn32s\", \"pruning\", \"sod\"]\n",
        "\n",
        "    if any(name in model_file for name in vgg_list):\n",
        "        if \"pruning\" in model_file:\n",
        "            print(\"VGG-16 Architecture Detected\")\n",
        "            print(\"Using The Channel Pruning Model\")\n",
        "            cnn, layerList = VGG_Pruned(buildSequential(channel_list['VGG-16p'], pooling)), vgg16_dict\n",
        "\n",
        "        elif \"fcn32s\" in model_file:\n",
        "            print(\"VGG-16 Architecture Detected\")\n",
        "            print(\"Using the fcn32s-heavy-pascal Model\")\n",
        "            cnn, layerList = VGG_Fully_Convolutional_Network_32S(buildSequential(channel_list['VGG-16'], pooling)), vgg16_dict\n",
        "\n",
        "        elif \"sod\" in model_file:\n",
        "            print(\"VGG-16 Architecture Detected\")\n",
        "            print(\"Using The SOD Fintune Model\")\n",
        "            cnn, layerList = VGG_Salient_Object_Detection(buildSequential(channel_list['VGG-16'], pooling)), vgg16_dict\n",
        "\n",
        "        elif \"19\" in model_file:\n",
        "            print(\"VGG-19 Architecture Detected\")\n",
        "            cnn, layerList = VGG(buildSequential(channel_list['VGG-19'], pooling)), vgg19_dict\n",
        "\n",
        "        elif \"16\" in model_file:\n",
        "            print(\"VGG-16 Architecture Detected\")\n",
        "            cnn, layerList = VGG(buildSequential(channel_list['VGG-16'], pooling)), vgg16_dict\n",
        "\n",
        "        else:\n",
        "            raise ValueError(\"VGG architecture not recognized.\")\n",
        "\n",
        "    elif \"nin\" in model_file:\n",
        "        print(\"NIN Architecture Detected\")\n",
        "        cnn, layerList = Network_in_Network(pooling), nin_dict\n",
        "\n",
        "    else:\n",
        "        raise ValueError(\"Model architecture not recognized.\")\n",
        "\n",
        "    return cnn, layerList"
      ],
      "execution_count": 20,
      "outputs": []
    },
    {
      "cell_type": "markdown",
      "metadata": {
        "id": "kBXHumstANUd"
      },
      "source": [
        "## Function to print the caffe model"
      ]
    },
    {
      "cell_type": "code",
      "metadata": {
        "id": "ph6gISOK_vy2"
      },
      "source": [
        "def print_caffe(cnn, layerList):\n",
        "    c = 0\n",
        "    for l in list(cnn):\n",
        "         if \"Conv2d\" in str(l):\n",
        "             in_c, out_c, ks  = str(l.in_channels), str(l.out_channels), str(l.kernel_size)\n",
        "             print(layerList['C'][c] +\": \" +  (out_c + \" \" + in_c + \" \" + ks).replace(\")\",'').replace(\"(\",'').replace(\",\",'') )\n",
        "             c+=1\n",
        "         if c == len(layerList['C']):\n",
        "             break"
      ],
      "execution_count": 21,
      "outputs": []
    },
    {
      "cell_type": "markdown",
      "metadata": {
        "id": "YYsPvE-UAB1A"
      },
      "source": [
        "## Function to load the model and configure pooling layer type"
      ]
    },
    {
      "cell_type": "code",
      "metadata": {
        "id": "lDyMVOO-_x9j"
      },
      "source": [
        "def load_caffe_model(model_file, pooling, use_gpu, disable_check):\n",
        "    cnn, layerList = modelSelector(str(model_file).lower(), pooling)\n",
        "\n",
        "    cnn.load_state_dict(torch.load(model_file), strict=(not disable_check))\n",
        "    print(\"Successfully loaded \" + str(model_file))\n",
        "\n",
        "    # Convert the model to cuda\n",
        "    if \"c\" not in str(use_gpu).lower() or \"c\" not in str(use_gpu[0]).lower():\n",
        "        cnn = cnn.cuda()\n",
        "    cnn = cnn.features\n",
        "\n",
        "    print_caffe(cnn, layerList)\n",
        "\n",
        "    return cnn, layerList"
      ],
      "execution_count": 22,
      "outputs": []
    },
    {
      "cell_type": "markdown",
      "metadata": {
        "id": "LzXr7CfdhSer"
      },
      "source": [
        "# **Other classes**\n",
        "## Class to scale gradients in the backward pass"
      ]
    },
    {
      "cell_type": "code",
      "metadata": {
        "id": "6WAeyH9BipZF"
      },
      "source": [
        "class ScaleGradients(torch.autograd.Function):\n",
        "    @staticmethod\n",
        "    def forward(self, input_tensor, strength):\n",
        "        self.strength = strength\n",
        "        return input_tensor\n",
        "\n",
        "    @staticmethod\n",
        "    def backward(self, grad_output):\n",
        "        grad_input = grad_output.clone()\n",
        "        grad_input = grad_input / (torch.norm(grad_input, keepdim=True) + 1e-8)\n",
        "        return grad_input * self.strength * self.strength, None"
      ],
      "execution_count": 23,
      "outputs": []
    },
    {
      "cell_type": "markdown",
      "metadata": {
        "id": "TjGCyE7yiimc"
      },
      "source": [
        "## Class to compute content loss"
      ]
    },
    {
      "cell_type": "code",
      "metadata": {
        "id": "zYIMlsGbhbBa"
      },
      "source": [
        "class ContentLoss(nn.Module):\n",
        "\n",
        "    def __init__(self, strength, normalize):\n",
        "        super(ContentLoss, self).__init__()\n",
        "        self.strength = strength\n",
        "        self.crit = nn.MSELoss()\n",
        "        self.mode = 'None'\n",
        "        self.normalize = normalize\n",
        "\n",
        "    def forward(self, input):\n",
        "        if self.mode == 'loss':\n",
        "            loss = self.crit(input, self.target)\n",
        "            if self.normalize:\n",
        "                loss = ScaleGradients.apply(loss, self.strength)\n",
        "            self.loss = loss * self.strength\n",
        "        elif self.mode == 'capture':\n",
        "            self.target = input.detach()\n",
        "        return input"
      ],
      "execution_count": 24,
      "outputs": []
    },
    {
      "cell_type": "markdown",
      "metadata": {
        "id": "o9jBBWC8hjAT"
      },
      "source": [
        "## Class to compute the Gram matrix"
      ]
    },
    {
      "cell_type": "code",
      "metadata": {
        "id": "nxJITIzThdma"
      },
      "source": [
        "class GramMatrix(nn.Module):\n",
        "\n",
        "    def forward(self, input):\n",
        "        B, C, H, W = input.size()\n",
        "        x_flat = input.view(C, H * W)\n",
        "        return torch.mm(x_flat, x_flat.t())"
      ],
      "execution_count": 25,
      "outputs": []
    },
    {
      "cell_type": "markdown",
      "metadata": {
        "id": "7XArt2Rjhysg"
      },
      "source": [
        "## Class to compute style loss"
      ]
    },
    {
      "cell_type": "code",
      "metadata": {
        "id": "oVRl76xvh1WB"
      },
      "source": [
        "class StyleLoss(nn.Module):\n",
        "\n",
        "    def __init__(self, strength, normalize):\n",
        "        super(StyleLoss, self).__init__()\n",
        "        self.target = torch.Tensor()\n",
        "        self.strength = strength\n",
        "        self.gram = GramMatrix()\n",
        "        self.crit = nn.MSELoss()\n",
        "        self.mode = 'None'\n",
        "        self.blend_weight = None\n",
        "        self.normalize = normalize\n",
        "\n",
        "    def forward(self, input):\n",
        "        self.G = self.gram(input)\n",
        "        self.G = self.G.div(input.nelement())\n",
        "        if self.mode == 'capture':\n",
        "            if self.blend_weight == None:\n",
        "                self.target = self.G.detach()\n",
        "            elif self.target.nelement() == 0:\n",
        "                self.target = self.G.detach().mul(self.blend_weight)\n",
        "            else:\n",
        "                self.target = self.target.add(self.blend_weight, self.G.detach())\n",
        "        elif self.mode == 'loss':\n",
        "            loss = self.crit(self.G, self.target)\n",
        "            if self.normalize:\n",
        "                loss = ScaleGradients.apply(loss, self.strength)\n",
        "            self.loss = self.strength * loss\n",
        "        return input"
      ],
      "execution_count": 26,
      "outputs": []
    },
    {
      "cell_type": "markdown",
      "metadata": {
        "id": "yT87hMkbh3jH"
      },
      "source": [
        "## Class to compute total-variation loss"
      ]
    },
    {
      "cell_type": "code",
      "metadata": {
        "id": "FGdej80nh8Jv"
      },
      "source": [
        "class TVLoss(nn.Module):\n",
        "\n",
        "    def __init__(self, strength):\n",
        "        super(TVLoss, self).__init__()\n",
        "        self.strength = strength\n",
        "\n",
        "    def forward(self, input):\n",
        "        self.x_diff = input[:,:,1:,:] - input[:,:,:-1,:]\n",
        "        self.y_diff = input[:,:,:,1:] - input[:,:,:,:-1]\n",
        "        self.loss = self.strength * (torch.sum(torch.abs(self.x_diff)) + torch.sum(torch.abs(self.y_diff)))\n",
        "        return input"
      ],
      "execution_count": 27,
      "outputs": []
    },
    {
      "cell_type": "markdown",
      "metadata": {
        "id": "g2XXOgiskOEc"
      },
      "source": [
        "# **Setup**"
      ]
    },
    {
      "cell_type": "code",
      "metadata": {
        "id": "m3ggBPEGkITk"
      },
      "source": [
        "def setup_gpu():\n",
        "    def setup_cuda():\n",
        "        if 'cudnn' in params.backend:\n",
        "            torch.backends.cudnn.enabled = True\n",
        "            if params.cudnn_autotune:\n",
        "                torch.backends.cudnn.benchmark = True\n",
        "        else:\n",
        "            torch.backends.cudnn.enabled = False\n",
        "\n",
        "    def setup_cpu():\n",
        "        if 'mkl' in params.backend and 'mkldnn' not in params.backend:\n",
        "            torch.backends.mkl.enabled = True\n",
        "        elif 'mkldnn' in params.backend:\n",
        "            raise ValueError(\"MKL-DNN is not supported yet.\")\n",
        "        elif 'openmp' in params.backend:\n",
        "            torch.backends.openmp.enabled = True\n",
        "\n",
        "    multidevice = False\n",
        "    if \",\" in str(params.gpu):\n",
        "        devices = params.gpu.split(',')\n",
        "        multidevice = True\n",
        "\n",
        "        if 'c' in str(devices[0]).lower():\n",
        "            backward_device = \"cpu\"\n",
        "            setup_cuda(), setup_cpu()\n",
        "        else:\n",
        "            backward_device = \"cuda:\" + devices[0]\n",
        "            setup_cuda()\n",
        "        dtype = torch.FloatTensor\n",
        "\n",
        "    elif \"c\" not in str(params.gpu).lower():\n",
        "        setup_cuda()\n",
        "        dtype, backward_device = torch.cuda.FloatTensor, \"cuda:\" + str(params.gpu)\n",
        "    else:\n",
        "        setup_cpu()\n",
        "        dtype, backward_device = torch.FloatTensor, \"cpu\"\n",
        "    return dtype, multidevice, backward_device"
      ],
      "execution_count": 28,
      "outputs": []
    },
    {
      "cell_type": "code",
      "metadata": {
        "id": "6GAgTbPwkSa-"
      },
      "source": [
        "def setup_multi_device(net):\n",
        "    assert len(params.gpu.split(',')) - 1 == len(params.multidevice_strategy.split(',')), \\\n",
        "      \"The number of -multidevice_strategy layer indices minus 1, must be equal to the number of -gpu devices.\"\n",
        "\n",
        "    new_net = ModelParallel(net, params.gpu, params.multidevice_strategy)\n",
        "    return new_net"
      ],
      "execution_count": 29,
      "outputs": []
    },
    {
      "cell_type": "markdown",
      "metadata": {
        "id": "1-mXyZaal4zV"
      },
      "source": [
        "# **Other functions**\n",
        "## Preprocess an image before passing it to a model.\n",
        "We need to rescale from [0, 1] to [0, 255], convert from RGB to BGR, and subtract the mean pixel."
      ]
    },
    {
      "cell_type": "code",
      "metadata": {
        "id": "5iAdueFkl_xL"
      },
      "source": [
        "def preprocess(image_name, image_size):\n",
        "    image = Image.open(image_name).convert('RGB')\n",
        "    if type(image_size) is not tuple:\n",
        "        image_size = tuple([int((float(image_size) / max(image.size))*x) for x in (image.height, image.width)])\n",
        "    Loader = transforms.Compose([transforms.Resize(image_size), transforms.ToTensor()])\n",
        "    rgb2bgr = transforms.Compose([transforms.Lambda(lambda x: x[torch.LongTensor([2,1,0])])])\n",
        "    Normalize = transforms.Compose([transforms.Normalize(mean=[103.939, 116.779, 123.68], std=[1,1,1])])\n",
        "    tensor = Normalize(rgb2bgr(Loader(image) * 255)).unsqueeze(0)\n",
        "    return tensor"
      ],
      "execution_count": 30,
      "outputs": []
    },
    {
      "cell_type": "markdown",
      "metadata": {
        "id": "_oYDMM_GmR5p"
      },
      "source": [
        "## Cancel the previous preprocessing"
      ]
    },
    {
      "cell_type": "code",
      "metadata": {
        "id": "cTAu6Vu7mQuJ"
      },
      "source": [
        "def deprocess(output_tensor):\n",
        "    Normalize = transforms.Compose([transforms.Normalize(mean=[-103.939, -116.779, -123.68], std=[1,1,1])])\n",
        "    bgr2rgb = transforms.Compose([transforms.Lambda(lambda x: x[torch.LongTensor([2,1,0])])])\n",
        "    output_tensor = bgr2rgb(Normalize(output_tensor.squeeze(0).cpu())) / 255\n",
        "    output_tensor.clamp_(0, 1)\n",
        "    Image2PIL = transforms.ToPILImage()\n",
        "    image = Image2PIL(output_tensor.cpu())\n",
        "    return image"
      ],
      "execution_count": 31,
      "outputs": []
    },
    {
      "cell_type": "markdown",
      "metadata": {
        "id": "DSiz2VjcoWRK"
      },
      "source": [
        "## Combine the Y channel of the generated image and the UV/CbCr channels of the content image to perform color-independent style transfer."
      ]
    },
    {
      "cell_type": "code",
      "metadata": {
        "id": "dQIdSxcZoaQd"
      },
      "source": [
        "def original_colors(content, generated):\n",
        "    content_channels = list(content.convert('YCbCr').split())\n",
        "    generated_channels = list(generated.convert('YCbCr').split())\n",
        "    content_channels[0] = generated_channels[0]\n",
        "    return Image.merge('YCbCr', content_channels).convert('RGB')"
      ],
      "execution_count": 32,
      "outputs": []
    },
    {
      "cell_type": "markdown",
      "metadata": {
        "id": "x9MBYEy_owQw"
      },
      "source": [
        "## Configure the optimizer"
      ]
    },
    {
      "cell_type": "code",
      "metadata": {
        "id": "iXVuwG2moxzV"
      },
      "source": [
        "def setup_optimizer(img):\n",
        "    if params.optimizer == 'lbfgs':\n",
        "        print(\"Running optimization with L-BFGS\")\n",
        "        optim_state = {\n",
        "            'max_iter': params.num_iterations,\n",
        "            'tolerance_change': -1,\n",
        "            'tolerance_grad': -1,\n",
        "        }\n",
        "        if params.lbfgs_num_correction != 100:\n",
        "            optim_state['history_size'] = params.lbfgs_num_correction\n",
        "        optimizer = optim.LBFGS([img], **optim_state)\n",
        "        loopVal = 1\n",
        "    elif params.optimizer == 'adam':\n",
        "        print(\"Running optimization with ADAM\")\n",
        "        optimizer = optim.Adam([img], lr = params.learning_rate)\n",
        "        loopVal = params.num_iterations - 1\n",
        "    return optimizer, loopVal"
      ],
      "execution_count": 33,
      "outputs": []
    },
    {
      "cell_type": "markdown",
      "metadata": {
        "id": "iT9KH4x4obxV"
      },
      "source": [
        "## Print torch"
      ]
    },
    {
      "cell_type": "code",
      "metadata": {
        "id": "a5M4fZ4woiuG"
      },
      "source": [
        "def print_torch(net, multidevice):\n",
        "    if multidevice:\n",
        "        return\n",
        "    simplelist = \"\"\n",
        "    for i, layer in enumerate(net, 1):\n",
        "        simplelist = simplelist + \"(\" + str(i) + \") -> \"\n",
        "    print(\"nn.Sequential ( \\n  [input -> \" + simplelist + \"output]\")\n",
        "\n",
        "    def strip(x):\n",
        "        return str(x).replace(\", \",',').replace(\"(\",'').replace(\")\",'') + \", \"\n",
        "    def n():\n",
        "        return \"  (\" + str(i) + \"): \" + \"nn.\" + str(l).split(\"(\", 1)[0]\n",
        "\n",
        "    for i, l in enumerate(net, 1):\n",
        "         if \"2d\" in str(l):\n",
        "             ks, st, pd = strip(l.kernel_size), strip(l.stride), strip(l.padding)\n",
        "             if \"Conv2d\" in str(l):\n",
        "                 ch = str(l.in_channels) + \" -> \" + str(l.out_channels)\n",
        "                 print(n() + \"(\" + ch + \", \" + (ks).replace(\",\",'x', 1) + st + pd.replace(\", \",')'))\n",
        "             elif \"Pool2d\" in str(l):\n",
        "                 st = st.replace(\"  \",' ') + st.replace(\", \",')')\n",
        "                 print(n() + \"(\" + ((ks).replace(\",\",'x' + ks, 1) + st).replace(\", \",','))\n",
        "         else:\n",
        "             print(n())\n",
        "    print(\")\")"
      ],
      "execution_count": 34,
      "outputs": []
    },
    {
      "cell_type": "markdown",
      "metadata": {
        "id": "-E1AH0rTusUf"
      },
      "source": [
        "## Print progress every `print_iter` iterations if `print_iter` not 0."
      ]
    },
    {
      "cell_type": "code",
      "metadata": {
        "id": "_qe9sAsNupox"
      },
      "source": [
        "def print_iterations(t, loss):\n",
        "    if params.print_iter > 0 and t % params.print_iter == 0:\n",
        "        print(\"Iteration \" + str(t) + \" / \"+ str(params.num_iterations))\n",
        "        for i, loss_module in enumerate(content_losses):\n",
        "            print(\"  Content \" + str(i+1) + \" loss: \" + str(loss_module.loss.item()))\n",
        "        for i, loss_module in enumerate(style_losses):\n",
        "            print(\"  Style \" + str(i+1) + \" loss: \" + str(loss_module.loss.item()))\n",
        "        print(\"  Total loss: \" + str(loss.item()))"
      ],
      "execution_count": 35,
      "outputs": []
    },
    {
      "cell_type": "markdown",
      "metadata": {
        "id": "kUO_naomvH6L"
      },
      "source": [
        "## Save the image every `save_iter` iterations if `save_iter` not 0."
      ]
    },
    {
      "cell_type": "code",
      "metadata": {
        "id": "wWM6uQgRvCo7"
      },
      "source": [
        "def save_image(t):\n",
        "    should_save = params.save_iter > 0 and t % params.save_iter == 0\n",
        "    should_save = should_save or t == params.num_iterations\n",
        "    if should_save:\n",
        "        output_filename, file_extension = os.path.splitext(params.output_image)\n",
        "        if t == params.num_iterations:\n",
        "            filename = output_filename + str(file_extension)\n",
        "        else:\n",
        "            filename = str(output_filename) + \"_\" + str(t) + str(file_extension)\n",
        "        disp = deprocess(img.clone())\n",
        "\n",
        "        # Maybe perform postprocessing for color-independent style transfer\n",
        "        if params.original_colors == 1:\n",
        "            disp = original_colors(deprocess(content_image.clone()), disp)\n",
        "\n",
        "        disp.save(str(filename))"
      ],
      "execution_count": 36,
      "outputs": []
    },
    {
      "cell_type": "markdown",
      "metadata": {
        "id": "_oYF2_HMwiHO"
      },
      "source": [
        "## Function to evaluate loss and gradient \n",
        "We run the net forward and backward to get the gradient, and sum up losses from the loss modules.\n",
        "`optim.lbfgs` internally handles iteration and calls this function many times, so we manually count the number of iterations to handle printing and saving intermediate results."
      ]
    },
    {
      "cell_type": "code",
      "metadata": {
        "id": "2POKiPtywhxv"
      },
      "source": [
        "num_calls = [0]\n",
        "def feval():\n",
        "    num_calls[0] += 1\n",
        "    optimizer.zero_grad()\n",
        "    net(img)\n",
        "    loss = 0\n",
        "\n",
        "    for mod in content_losses:\n",
        "        loss += mod.loss.to(backward_device)\n",
        "    for mod in style_losses:\n",
        "        loss += mod.loss.to(backward_device)\n",
        "    if params.tv_weight > 0:\n",
        "        for mod in tv_losses:\n",
        "            loss += mod.loss.to(backward_device)\n",
        "\n",
        "    loss.backward()\n",
        "\n",
        "    save_image(num_calls[0])\n",
        "    print_iterations(num_calls[0], loss)\n",
        "\n",
        "    return loss"
      ],
      "execution_count": 37,
      "outputs": []
    },
    {
      "cell_type": "markdown",
      "metadata": {
        "id": "z4NtswQdr2N4"
      },
      "source": [
        "# **Experimentation**"
      ]
    },
    {
      "cell_type": "code",
      "metadata": {
        "id": "tU3cV6UHpnr7"
      },
      "source": [
        "dtype, multidevice, backward_device = setup_gpu()"
      ],
      "execution_count": 38,
      "outputs": []
    },
    {
      "cell_type": "code",
      "metadata": {
        "colab": {
          "base_uri": "https://localhost:8080/"
        },
        "id": "f7ycgS7Zpn3I",
        "outputId": "1ced5dea-537c-4290-d713-38a1ef06d343"
      },
      "source": [
        "cnn, layerList = load_caffe_model(params.model_file, params.pooling, params.gpu, params.disable_check)"
      ],
      "execution_count": 39,
      "outputs": [
        {
          "output_type": "stream",
          "text": [
            "VGG-19 Architecture Detected\n",
            "Successfully loaded vgg19-d01eb7cb.pth\n",
            "conv1_1: 64 3 3 3\n",
            "conv1_2: 64 64 3 3\n",
            "conv2_1: 128 64 3 3\n",
            "conv2_2: 128 128 3 3\n",
            "conv3_1: 256 128 3 3\n",
            "conv3_2: 256 256 3 3\n",
            "conv3_3: 256 256 3 3\n",
            "conv3_4: 256 256 3 3\n",
            "conv4_1: 512 256 3 3\n",
            "conv4_2: 512 512 3 3\n",
            "conv4_3: 512 512 3 3\n",
            "conv4_4: 512 512 3 3\n",
            "conv5_1: 512 512 3 3\n",
            "conv5_2: 512 512 3 3\n",
            "conv5_3: 512 512 3 3\n",
            "conv5_4: 512 512 3 3\n"
          ],
          "name": "stdout"
        }
      ]
    },
    {
      "cell_type": "code",
      "metadata": {
        "id": "zZo6yf3rpn_p"
      },
      "source": [
        "content_image = preprocess(params.content_image, params.image_size).type(dtype)"
      ],
      "execution_count": 40,
      "outputs": []
    },
    {
      "cell_type": "code",
      "metadata": {
        "id": "9V7fbmmepoH2"
      },
      "source": [
        "style_image_input = params.style_image.split(',')\n",
        "style_image_list, ext = [], [\".jpg\", \".jpeg\", \".png\", \".tiff\"]\n",
        "for image in style_image_input:\n",
        "    if os.path.isdir(image):\n",
        "        images = (image + \"/\" + file for file in os.listdir(image)\n",
        "        if os.path.splitext(file)[1].lower() in ext)\n",
        "        style_image_list.extend(images)\n",
        "    else:\n",
        "        style_image_list.append(image)\n",
        "style_images_caffe = []\n",
        "for image in style_image_list:\n",
        "    style_size = int(params.image_size * params.style_scale)\n",
        "    img_caffe = preprocess(image, style_size).type(dtype)\n",
        "    style_images_caffe.append(img_caffe)"
      ],
      "execution_count": 41,
      "outputs": []
    },
    {
      "cell_type": "code",
      "metadata": {
        "id": "PGRzUlQKtJVF"
      },
      "source": [
        "if params.init_image != None:\n",
        "    image_size = (content_image.size(2), content_image.size(3))\n",
        "    init_image = preprocess(params.init_image, image_size).type(dtype)"
      ],
      "execution_count": 42,
      "outputs": []
    },
    {
      "cell_type": "markdown",
      "metadata": {
        "id": "OEdDb39UtYNH"
      },
      "source": [
        "Handle style blending weights for multiple style inputs"
      ]
    },
    {
      "cell_type": "code",
      "metadata": {
        "id": "Ris5NFGZtOUK"
      },
      "source": [
        "style_blend_weights = []\n",
        "if params.style_blend_weights == None:\n",
        "    # Style blending not specified, so use equal weighting\n",
        "    for i in style_image_list:\n",
        "        style_blend_weights.append(1.0)\n",
        "    for i, blend_weights in enumerate(style_blend_weights):\n",
        "        style_blend_weights[i] = int(style_blend_weights[i])\n",
        "else:\n",
        "    style_blend_weights = params.style_blend_weights.split(',')\n",
        "    assert len(style_blend_weights) == len(style_image_list), \\\n",
        "      \"-style_blend_weights and -style_images must have the same number of elements!\""
      ],
      "execution_count": 43,
      "outputs": []
    },
    {
      "cell_type": "markdown",
      "metadata": {
        "id": "_qNRrCdEtbTB"
      },
      "source": [
        "Normalize the style blending weights so they sum to 1"
      ]
    },
    {
      "cell_type": "code",
      "metadata": {
        "id": "VlIfM3MCtV08"
      },
      "source": [
        "style_blend_sum = 0\n",
        "for i, blend_weights in enumerate(style_blend_weights):\n",
        "    style_blend_weights[i] = float(style_blend_weights[i])\n",
        "    style_blend_sum = float(style_blend_sum) + style_blend_weights[i]\n",
        "for i, blend_weights in enumerate(style_blend_weights):\n",
        "    style_blend_weights[i] = float(style_blend_weights[i]) / float(style_blend_sum)"
      ],
      "execution_count": 44,
      "outputs": []
    },
    {
      "cell_type": "code",
      "metadata": {
        "id": "TGUdhvSCtiHH"
      },
      "source": [
        "content_layers = params.content_layers.split(',')\n",
        "style_layers = params.style_layers.split(',')"
      ],
      "execution_count": 45,
      "outputs": []
    },
    {
      "cell_type": "markdown",
      "metadata": {
        "id": "ggAXzRZ8tjaU"
      },
      "source": [
        "Set up the network, inserting style and content loss modules"
      ]
    },
    {
      "cell_type": "code",
      "metadata": {
        "id": "EtvG5iudtlvO"
      },
      "source": [
        "cnn = copy.deepcopy(cnn)\n",
        "content_losses, style_losses, tv_losses = [], [], []\n",
        "next_content_idx, next_style_idx = 1, 1\n",
        "net = nn.Sequential()\n",
        "c, r = 0, 0\n",
        "\n",
        "if params.tv_weight > 0:\n",
        "    tv_mod = TVLoss(params.tv_weight).type(dtype)\n",
        "    net.add_module(str(len(net)), tv_mod)\n",
        "    tv_losses.append(tv_mod)"
      ],
      "execution_count": 46,
      "outputs": []
    },
    {
      "cell_type": "code",
      "metadata": {
        "colab": {
          "base_uri": "https://localhost:8080/"
        },
        "id": "fToV2_xmtyqo",
        "outputId": "ac819dcf-d2f1-46cb-ec56-81ba200deed6"
      },
      "source": [
        "for i, layer in enumerate(list(cnn), 1):\n",
        "    if next_content_idx <= len(content_layers) or next_style_idx <= len(style_layers):\n",
        "        if isinstance(layer, nn.Conv2d):\n",
        "            net.add_module(str(len(net)), layer)\n",
        "\n",
        "            if layerList['C'][c] in content_layers:\n",
        "                print(\"Setting up content layer \" + str(i) + \": \" + str(layerList['C'][c]))\n",
        "                loss_module = ContentLoss(params.content_weight, params.normalize_gradients)\n",
        "                net.add_module(str(len(net)), loss_module)\n",
        "                content_losses.append(loss_module)\n",
        "\n",
        "            if layerList['C'][c] in style_layers:\n",
        "                print(\"Setting up style layer \" + str(i) + \": \" + str(layerList['C'][c]))\n",
        "                loss_module = StyleLoss(params.style_weight, params.normalize_gradients)\n",
        "                net.add_module(str(len(net)), loss_module)\n",
        "                style_losses.append(loss_module)\n",
        "            c+=1\n",
        "\n",
        "        if isinstance(layer, nn.ReLU):\n",
        "            net.add_module(str(len(net)), layer)\n",
        "\n",
        "            if layerList['R'][r] in content_layers:\n",
        "                print(\"Setting up content layer \" + str(i) + \": \" + str(layerList['R'][r]))\n",
        "                loss_module = ContentLoss(params.content_weight, params.normalize_gradients)\n",
        "                net.add_module(str(len(net)), loss_module)\n",
        "                content_losses.append(loss_module)\n",
        "                next_content_idx += 1\n",
        "\n",
        "            if layerList['R'][r] in style_layers:\n",
        "                print(\"Setting up style layer \" + str(i) + \": \" + str(layerList['R'][r]))\n",
        "                loss_module = StyleLoss(params.style_weight, params.normalize_gradients)\n",
        "                net.add_module(str(len(net)), loss_module)\n",
        "                style_losses.append(loss_module)\n",
        "                next_style_idx += 1\n",
        "            r+=1\n",
        "\n",
        "        if isinstance(layer, nn.MaxPool2d) or isinstance(layer, nn.AvgPool2d):\n",
        "            net.add_module(str(len(net)), layer)"
      ],
      "execution_count": 47,
      "outputs": [
        {
          "output_type": "stream",
          "text": [
            "Setting up style layer 2: relu1_1\n",
            "Setting up style layer 7: relu2_1\n",
            "Setting up style layer 12: relu3_1\n",
            "Setting up style layer 21: relu4_1\n",
            "Setting up content layer 23: relu4_2\n",
            "Setting up style layer 30: relu5_1\n"
          ],
          "name": "stdout"
        }
      ]
    },
    {
      "cell_type": "code",
      "metadata": {
        "id": "jdLOuAfft2ow"
      },
      "source": [
        "if multidevice:\n",
        "    net = setup_multi_device(net)"
      ],
      "execution_count": 48,
      "outputs": []
    },
    {
      "cell_type": "markdown",
      "metadata": {
        "id": "VERT1MptuBQr"
      },
      "source": [
        "Capture content targets"
      ]
    },
    {
      "cell_type": "code",
      "metadata": {
        "colab": {
          "base_uri": "https://localhost:8080/"
        },
        "id": "509OguSgt4ue",
        "outputId": "e720c9f4-d81e-4ebd-982f-24318e00b6ef"
      },
      "source": [
        "for i in content_losses:\n",
        "    i.mode = 'capture'\n",
        "print(\"Capturing content targets\")\n",
        "print_torch(net, multidevice)\n",
        "net(content_image)"
      ],
      "execution_count": 49,
      "outputs": [
        {
          "output_type": "stream",
          "text": [
            "Capturing content targets\n",
            "nn.Sequential ( \n",
            "  [input -> (1) -> (2) -> (3) -> (4) -> (5) -> (6) -> (7) -> (8) -> (9) -> (10) -> (11) -> (12) -> (13) -> (14) -> (15) -> (16) -> (17) -> (18) -> (19) -> (20) -> (21) -> (22) -> (23) -> (24) -> (25) -> (26) -> (27) -> (28) -> (29) -> (30) -> (31) -> (32) -> (33) -> (34) -> (35) -> (36) -> (37) -> output]\n",
            "  (1): nn.TVLoss\n",
            "  (2): nn.Conv2d(3 -> 64, 3x3, 1,1, 1,1)\n",
            "  (3): nn.ReLU\n",
            "  (4): nn.StyleLoss\n",
            "  (5): nn.Conv2d(64 -> 64, 3x3, 1,1, 1,1)\n",
            "  (6): nn.ReLU\n",
            "  (7): nn.MaxPool2d(2x2, 2,2)\n",
            "  (8): nn.Conv2d(64 -> 128, 3x3, 1,1, 1,1)\n",
            "  (9): nn.ReLU\n",
            "  (10): nn.StyleLoss\n",
            "  (11): nn.Conv2d(128 -> 128, 3x3, 1,1, 1,1)\n",
            "  (12): nn.ReLU\n",
            "  (13): nn.MaxPool2d(2x2, 2,2)\n",
            "  (14): nn.Conv2d(128 -> 256, 3x3, 1,1, 1,1)\n",
            "  (15): nn.ReLU\n",
            "  (16): nn.StyleLoss\n",
            "  (17): nn.Conv2d(256 -> 256, 3x3, 1,1, 1,1)\n",
            "  (18): nn.ReLU\n",
            "  (19): nn.Conv2d(256 -> 256, 3x3, 1,1, 1,1)\n",
            "  (20): nn.ReLU\n",
            "  (21): nn.Conv2d(256 -> 256, 3x3, 1,1, 1,1)\n",
            "  (22): nn.ReLU\n",
            "  (23): nn.MaxPool2d(2x2, 2,2)\n",
            "  (24): nn.Conv2d(256 -> 512, 3x3, 1,1, 1,1)\n",
            "  (25): nn.ReLU\n",
            "  (26): nn.StyleLoss\n",
            "  (27): nn.Conv2d(512 -> 512, 3x3, 1,1, 1,1)\n",
            "  (28): nn.ReLU\n",
            "  (29): nn.ContentLoss\n",
            "  (30): nn.Conv2d(512 -> 512, 3x3, 1,1, 1,1)\n",
            "  (31): nn.ReLU\n",
            "  (32): nn.Conv2d(512 -> 512, 3x3, 1,1, 1,1)\n",
            "  (33): nn.ReLU\n",
            "  (34): nn.MaxPool2d(2x2, 2,2)\n",
            "  (35): nn.Conv2d(512 -> 512, 3x3, 1,1, 1,1)\n",
            "  (36): nn.ReLU\n",
            "  (37): nn.StyleLoss\n",
            ")\n"
          ],
          "name": "stdout"
        },
        {
          "output_type": "execute_result",
          "data": {
            "text/plain": [
              "tensor([[[[428.8506,   0.0000, 177.4183,  ..., 168.1779, 412.5454, 338.5618],\n",
              "          [  0.0000,   0.0000,   0.0000,  ..., 242.1853, 399.8316, 215.8558],\n",
              "          [ 29.9036, 105.4935, 206.7928,  ...,   0.0000,   0.0000,   0.0000],\n",
              "          ...,\n",
              "          [ 53.7515,   0.0000,   0.0000,  ...,   0.0000, 284.4362, 176.8962],\n",
              "          [ 30.7094,   0.0000,  34.2618,  ...,   0.0000, 412.4653, 472.0009],\n",
              "          [ 75.6144, 116.0777, 255.5144,  ...,   0.0000,  62.8609, 371.1771]],\n",
              "\n",
              "         [[129.7272,   0.0000,   0.0000,  ..., 138.9876,  35.3092,   0.0000],\n",
              "          [ 44.8111,   0.0000,  43.8237,  ..., 651.7650, 169.2339,   0.0000],\n",
              "          [209.5658,   0.0000,   0.0000,  ..., 598.7975, 185.1497,   0.0000],\n",
              "          ...,\n",
              "          [  0.0000,   0.0000,   0.0000,  ..., 152.8011, 755.6046, 343.5375],\n",
              "          [407.4595, 454.7144, 403.8685,  ...,   0.0000, 154.8791,  79.3047],\n",
              "          [226.2748,   0.0000,   0.0000,  ...,   0.0000,   0.0000,   0.0000]],\n",
              "\n",
              "         [[  0.0000,   0.0000, 524.6192,  ...,   0.0000,   0.0000,   0.0000],\n",
              "          [  0.0000,   0.0000,   0.0000,  ...,   0.0000,   0.0000,   0.0000],\n",
              "          [  0.0000,   0.0000,   0.0000,  ...,   0.0000,   0.0000,   0.0000],\n",
              "          ...,\n",
              "          [  0.0000,   0.0000,   0.0000,  ...,   0.0000,   0.0000,   0.0000],\n",
              "          [  0.0000,   0.0000,   0.0000,  ...,   0.0000,  40.4270,   0.0000],\n",
              "          [  0.0000,   0.0000, 293.7083,  ...,   0.0000,   0.0000,   0.0000]],\n",
              "\n",
              "         ...,\n",
              "\n",
              "         [[209.6994, 411.6967, 633.1985,  ...,   0.0000,  61.1600, 235.3197],\n",
              "          [  0.0000,   0.0000, 372.8435,  ..., 123.6406, 304.1343, 388.5887],\n",
              "          [159.6388, 203.2324, 468.4696,  ..., 128.1850, 312.3440, 265.7961],\n",
              "          ...,\n",
              "          [180.4172, 168.0429,  75.7924,  ...,   0.0000,   0.0000,   0.0000],\n",
              "          [108.5335, 307.8619, 312.8359,  ..., 119.9583, 188.6162,   0.0000],\n",
              "          [  0.0000,   0.0000,   0.0000,  ..., 161.2199,  96.6193,   0.0000]],\n",
              "\n",
              "         [[  0.0000,   0.0000,   0.0000,  ..., 111.5208,   0.0000,   0.0000],\n",
              "          [125.7317,   0.0000,   0.0000,  ..., 154.5692,   0.0000,   0.0000],\n",
              "          [  0.0000,   0.0000,   0.0000,  ..., 204.1666,   0.0000,   0.0000],\n",
              "          ...,\n",
              "          [  0.0000,   0.0000,   0.0000,  ...,   0.0000,   0.0000, 111.4055],\n",
              "          [  0.0000,   0.0000,   0.0000,  ...,   0.0000,   0.0000, 198.2286],\n",
              "          [  0.0000,   0.0000,   0.0000,  ...,   0.0000,   0.0000,   0.0000]],\n",
              "\n",
              "         [[  0.0000,   0.0000,   0.0000,  ..., 280.3097, 112.9482, 329.4241],\n",
              "          [  0.0000,   0.0000,   0.0000,  ..., 609.5582, 524.6285, 718.7723],\n",
              "          [  0.0000,   0.0000,   0.0000,  ..., 318.9892, 179.8905, 336.9627],\n",
              "          ...,\n",
              "          [  0.0000,   0.0000,   0.0000,  ..., 225.2772,   0.0000,   0.0000],\n",
              "          [  0.0000,   0.0000,   0.0000,  ...,  44.9431,   0.0000,   0.0000],\n",
              "          [ 88.6014,   0.0000,   0.0000,  ...,   0.0000,   0.0000,   0.0000]]]],\n",
              "       device='cuda:0', grad_fn=<ReluBackward1>)"
            ]
          },
          "metadata": {
            "tags": []
          },
          "execution_count": 49
        }
      ]
    },
    {
      "cell_type": "markdown",
      "metadata": {
        "id": "pdIolXAduCgF"
      },
      "source": [
        "Capture style targets"
      ]
    },
    {
      "cell_type": "code",
      "metadata": {
        "colab": {
          "base_uri": "https://localhost:8080/"
        },
        "id": "JwsJSCT5t6ZK",
        "outputId": "1c79e62d-2aac-4f39-b09f-e47ea01a210e"
      },
      "source": [
        "for i in content_losses:\n",
        "    i.mode = 'None'\n",
        "\n",
        "for i, image in enumerate(style_images_caffe):\n",
        "    print(\"Capturing style target \" + str(i+1))\n",
        "    for j in style_losses:\n",
        "        j.mode = 'capture'\n",
        "        j.blend_weight = style_blend_weights[i]\n",
        "    net(style_images_caffe[i])"
      ],
      "execution_count": 50,
      "outputs": [
        {
          "output_type": "stream",
          "text": [
            "Capturing style target 1\n"
          ],
          "name": "stdout"
        }
      ]
    },
    {
      "cell_type": "markdown",
      "metadata": {
        "id": "QMKd5z3OuLHl"
      },
      "source": [
        "Set all loss modules to loss mode"
      ]
    },
    {
      "cell_type": "code",
      "metadata": {
        "id": "o67gCOk_t-SI"
      },
      "source": [
        "for i in content_losses:\n",
        "    i.mode = 'loss'\n",
        "for i in style_losses:\n",
        "    i.mode = 'loss'"
      ],
      "execution_count": 51,
      "outputs": []
    },
    {
      "cell_type": "markdown",
      "metadata": {
        "id": "_eNXDpmruMzs"
      },
      "source": [
        "Normalize content and style weights"
      ]
    },
    {
      "cell_type": "code",
      "metadata": {
        "id": "YWVKfzLwuNBT"
      },
      "source": [
        "if params.normalize_weights:\n",
        "    normalize_weights(content_losses, style_losses)"
      ],
      "execution_count": 52,
      "outputs": []
    },
    {
      "cell_type": "markdown",
      "metadata": {
        "id": "0unIm9fXuNMX"
      },
      "source": [
        "Freeze the network in order to prevent unnecessary gradient calculations"
      ]
    },
    {
      "cell_type": "code",
      "metadata": {
        "id": "qoQgssMVuNZO"
      },
      "source": [
        "for param in net.parameters():\n",
        "    param.requires_grad = False"
      ],
      "execution_count": 53,
      "outputs": []
    },
    {
      "cell_type": "markdown",
      "metadata": {
        "id": "j_HfI_SouNqO"
      },
      "source": [
        "Initialize the image"
      ]
    },
    {
      "cell_type": "code",
      "metadata": {
        "id": "wB_1ff6QuN0g"
      },
      "source": [
        "if params.seed >= 0:\n",
        "    torch.manual_seed(params.seed)\n",
        "    torch.cuda.manual_seed_all(params.seed)\n",
        "    torch.backends.cudnn.deterministic=True\n",
        "if params.init == 'random':\n",
        "    B, C, H, W = content_image.size()\n",
        "    img = torch.randn(C, H, W).mul(0.001).unsqueeze(0).type(dtype)\n",
        "elif params.init == 'image':\n",
        "    if params.init_image != None:\n",
        "        img = init_image.clone()\n",
        "    else:\n",
        "        img = content_image.clone()\n",
        "img = nn.Parameter(img)"
      ],
      "execution_count": 54,
      "outputs": []
    },
    {
      "cell_type": "code",
      "metadata": {
        "colab": {
          "base_uri": "https://localhost:8080/"
        },
        "id": "ZgN3eGiCgl2N",
        "outputId": "55ff509e-0a8d-423e-ca86-e7c536e4fce5"
      },
      "source": [
        "optimizer, loopVal = setup_optimizer(img)\n",
        "while num_calls[0] <= loopVal:\n",
        "      optimizer.step(feval)"
      ],
      "execution_count": 55,
      "outputs": [
        {
          "output_type": "stream",
          "text": [
            "Running optimization with L-BFGS\n",
            "Iteration 50 / 1000\n",
            "  Content 1 loss: 2955448.5\n",
            "  Style 1 loss: 13250.2607421875\n",
            "  Style 2 loss: 190653.640625\n",
            "  Style 3 loss: 59194.98828125\n",
            "  Style 4 loss: 408663.46875\n",
            "  Style 5 loss: 1401.2335205078125\n",
            "  Total loss: 3641218.75\n",
            "Iteration 100 / 1000\n",
            "  Content 1 loss: 2445596.75\n",
            "  Style 1 loss: 4328.59375\n",
            "  Style 2 loss: 39991.62109375\n",
            "  Style 3 loss: 15118.3193359375\n",
            "  Style 4 loss: 318413.03125\n",
            "  Style 5 loss: 1626.396728515625\n",
            "  Total loss: 2837024.75\n",
            "Iteration 150 / 1000\n",
            "  Content 1 loss: 2328819.0\n",
            "  Style 1 loss: 2844.8134765625\n",
            "  Style 2 loss: 21061.712890625\n",
            "  Style 3 loss: 10483.0029296875\n",
            "  Style 4 loss: 307939.40625\n",
            "  Style 5 loss: 1721.996337890625\n",
            "  Total loss: 2684586.75\n",
            "Iteration 200 / 1000\n",
            "  Content 1 loss: 2284807.0\n",
            "  Style 1 loss: 1987.58447265625\n",
            "  Style 2 loss: 13251.01953125\n",
            "  Style 3 loss: 9005.853515625\n",
            "  Style 4 loss: 303019.03125\n",
            "  Style 5 loss: 1770.2999267578125\n",
            "  Total loss: 2625531.75\n",
            "Iteration 250 / 1000\n",
            "  Content 1 loss: 2263083.5\n",
            "  Style 1 loss: 1331.701904296875\n",
            "  Style 2 loss: 8706.572265625\n",
            "  Style 3 loss: 8147.58740234375\n",
            "  Style 4 loss: 300576.5\n",
            "  Style 5 loss: 1797.633544921875\n",
            "  Total loss: 2595331.75\n",
            "Iteration 300 / 1000\n",
            "  Content 1 loss: 2250953.0\n",
            "  Style 1 loss: 927.7047119140625\n",
            "  Style 2 loss: 6401.22607421875\n",
            "  Style 3 loss: 7695.54443359375\n",
            "  Style 4 loss: 299297.25\n",
            "  Style 5 loss: 1813.0966796875\n",
            "  Total loss: 2578730.5\n",
            "Iteration 350 / 1000\n",
            "  Content 1 loss: 2243712.0\n",
            "  Style 1 loss: 704.9990844726562\n",
            "  Style 2 loss: 5305.6845703125\n",
            "  Style 3 loss: 7520.5732421875\n",
            "  Style 4 loss: 298628.625\n",
            "  Style 5 loss: 1823.7969970703125\n",
            "  Total loss: 2569267.75\n",
            "Iteration 400 / 1000\n",
            "  Content 1 loss: 2239263.0\n",
            "  Style 1 loss: 587.529296875\n",
            "  Style 2 loss: 4749.09765625\n",
            "  Style 3 loss: 7376.611328125\n",
            "  Style 4 loss: 298287.15625\n",
            "  Style 5 loss: 1828.41259765625\n",
            "  Total loss: 2563594.75\n",
            "Iteration 450 / 1000\n",
            "  Content 1 loss: 2236141.0\n",
            "  Style 1 loss: 517.1817016601562\n",
            "  Style 2 loss: 4434.7802734375\n",
            "  Style 3 loss: 7288.52978515625\n",
            "  Style 4 loss: 298137.15625\n",
            "  Style 5 loss: 1835.08740234375\n",
            "  Total loss: 2559807.0\n",
            "Iteration 500 / 1000\n",
            "  Content 1 loss: 2233978.0\n",
            "  Style 1 loss: 473.50006103515625\n",
            "  Style 2 loss: 4234.0166015625\n",
            "  Style 3 loss: 7212.3359375\n",
            "  Style 4 loss: 298011.8125\n",
            "  Style 5 loss: 1839.5911865234375\n",
            "  Total loss: 2557160.25\n",
            "Iteration 550 / 1000\n",
            "  Content 1 loss: 2232484.0\n",
            "  Style 1 loss: 444.2288818359375\n",
            "  Style 2 loss: 4088.26513671875\n",
            "  Style 3 loss: 7178.51708984375\n",
            "  Style 4 loss: 297873.375\n",
            "  Style 5 loss: 1840.6273193359375\n",
            "  Total loss: 2555284.25\n",
            "Iteration 600 / 1000\n",
            "  Content 1 loss: 2231354.0\n",
            "  Style 1 loss: 421.083740234375\n",
            "  Style 2 loss: 3976.589599609375\n",
            "  Style 3 loss: 7171.51416015625\n",
            "  Style 4 loss: 297735.78125\n",
            "  Style 5 loss: 1843.5054931640625\n",
            "  Total loss: 2553853.25\n",
            "Iteration 650 / 1000\n",
            "  Content 1 loss: 2230479.5\n",
            "  Style 1 loss: 403.5525817871094\n",
            "  Style 2 loss: 3894.6552734375\n",
            "  Style 3 loss: 7158.244140625\n",
            "  Style 4 loss: 297612.90625\n",
            "  Style 5 loss: 1844.8017578125\n",
            "  Total loss: 2552728.25\n",
            "Iteration 700 / 1000\n",
            "  Content 1 loss: 2229685.25\n",
            "  Style 1 loss: 389.317138671875\n",
            "  Style 2 loss: 3829.060791015625\n",
            "  Style 3 loss: 7146.71240234375\n",
            "  Style 4 loss: 297590.53125\n",
            "  Style 5 loss: 1844.5888671875\n",
            "  Total loss: 2551806.25\n",
            "Iteration 750 / 1000\n",
            "  Content 1 loss: 2229012.75\n",
            "  Style 1 loss: 378.14501953125\n",
            "  Style 2 loss: 3770.76806640625\n",
            "  Style 3 loss: 7135.05712890625\n",
            "  Style 4 loss: 297625.21875\n",
            "  Style 5 loss: 1845.7003173828125\n",
            "  Total loss: 2551074.5\n",
            "Iteration 800 / 1000\n",
            "  Content 1 loss: 2228551.0\n",
            "  Style 1 loss: 368.8169860839844\n",
            "  Style 2 loss: 3726.50439453125\n",
            "  Style 3 loss: 7131.67724609375\n",
            "  Style 4 loss: 297551.96875\n",
            "  Style 5 loss: 1846.0687255859375\n",
            "  Total loss: 2550471.75\n",
            "Iteration 850 / 1000\n",
            "  Content 1 loss: 2228142.0\n",
            "  Style 1 loss: 361.0560302734375\n",
            "  Style 2 loss: 3685.568359375\n",
            "  Style 3 loss: 7123.8046875\n",
            "  Style 4 loss: 297506.96875\n",
            "  Style 5 loss: 1847.2828369140625\n",
            "  Total loss: 2549952.0\n",
            "Iteration 900 / 1000\n",
            "  Content 1 loss: 2227766.0\n",
            "  Style 1 loss: 354.3902893066406\n",
            "  Style 2 loss: 3650.291015625\n",
            "  Style 3 loss: 7109.86328125\n",
            "  Style 4 loss: 297490.28125\n",
            "  Style 5 loss: 1847.3045654296875\n",
            "  Total loss: 2549493.5\n",
            "Iteration 950 / 1000\n",
            "  Content 1 loss: 2227433.25\n",
            "  Style 1 loss: 348.5569763183594\n",
            "  Style 2 loss: 3621.119384765625\n",
            "  Style 3 loss: 7100.21826171875\n",
            "  Style 4 loss: 297470.59375\n",
            "  Style 5 loss: 1847.12109375\n",
            "  Total loss: 2549087.5\n",
            "Iteration 1000 / 1000\n",
            "  Content 1 loss: 2227142.25\n",
            "  Style 1 loss: 343.3680419921875\n",
            "  Style 2 loss: 3596.94140625\n",
            "  Style 3 loss: 7101.00390625\n",
            "  Style 4 loss: 297443.09375\n",
            "  Style 5 loss: 1847.6260986328125\n",
            "  Total loss: 2548733.5\n"
          ],
          "name": "stdout"
        }
      ]
    }
  ]
}